{
  "nbformat": 4,
  "nbformat_minor": 0,
  "metadata": {
    "colab": {
      "provenance": []
    },
    "kernelspec": {
      "name": "python3",
      "display_name": "Python 3"
    },
    "language_info": {
      "name": "python"
    }
  },
  "cells": [
    {
      "cell_type": "markdown",
      "source": [
        "Stock Prediction Using LSTM\n",
        "It's a type of Recurrent Neural Network (RNN)"
      ],
      "metadata": {
        "id": "KkS12w6WRb2F"
      }
    },
    {
      "cell_type": "markdown",
      "source": [
        "How Does LSTM Work?\n",
        "An LSTM network consists of memory blocks called cells. Each cell has three gates:\n",
        "\n",
        "1.Input Gate: Controls how much new information flows into the cell.\n",
        "\n",
        "2.Forget Gate: Decides what information to discard from the cell.\n",
        "\n",
        "3.Output Gate: Determines what information to output from the cell.\n",
        "\n"
      ],
      "metadata": {
        "id": "sG_PhL0IRpjZ"
      }
    },
    {
      "cell_type": "markdown",
      "source": [
        "**Import Necessary Libraries**"
      ],
      "metadata": {
        "id": "Nmkal36vR9km"
      }
    },
    {
      "cell_type": "code",
      "execution_count": null,
      "metadata": {
        "id": "CjqhAr69P0lO"
      },
      "outputs": [],
      "source": [
        "import numpy as np\n",
        "import pandas as pd\n",
        "import matplotlib.pyplot as plt\n",
        "%matplotlib inline\n",
        "\n",
        "from sklearn.preprocessing import MinMaxScaler\n",
        "from tensorflow.keras.models import Sequential\n",
        "from tensorflow.keras.layers import Dense, LSTM\n",
        "\n",
        "import yfinance as yf\n"
      ]
    },
    {
      "cell_type": "markdown",
      "source": [
        "**Load Stock Data**"
      ],
      "metadata": {
        "id": "pU6MW9WgSCvC"
      }
    },
    {
      "cell_type": "code",
      "source": [
        "# Define the ticker symbol\n",
        "tickerSymbol = 'AAPL'\n",
        "\n",
        "# Get data for this ticker\n",
        "data = yf.download(tickerSymbol, start='2012-01-01', end='2023-10-01')\n",
        "\n",
        "# Display the first five rows\n",
        "data.head()\n"
      ],
      "metadata": {
        "colab": {
          "base_uri": "https://localhost:8080/",
          "height": 255
        },
        "id": "7_R_cVzLSF2G",
        "outputId": "87fecf41-51e5-4f73-913b-0af2f18dc477"
      },
      "execution_count": null,
      "outputs": [
        {
          "output_type": "stream",
          "name": "stderr",
          "text": [
            "\r[*********************100%***********************]  1 of 1 completed\n"
          ]
        },
        {
          "output_type": "execute_result",
          "data": {
            "text/plain": [
              "                 Open       High        Low      Close  Adj Close     Volume\n",
              "Date                                                                        \n",
              "2012-01-03  14.621429  14.732143  14.607143  14.686786  12.402626  302220800\n",
              "2012-01-04  14.642857  14.810000  14.617143  14.765714  12.469278  260022000\n",
              "2012-01-05  14.819643  14.948214  14.738214  14.929643  12.607714  271269600\n",
              "2012-01-06  14.991786  15.098214  14.972143  15.085714  12.739511  318292800\n",
              "2012-01-09  15.196429  15.276786  15.048214  15.061786  12.719306  394024400"
            ],
            "text/html": [
              "\n",
              "  <div id=\"df-02cf739b-ef1e-42da-95d4-f0fa04037544\" class=\"colab-df-container\">\n",
              "    <div>\n",
              "<style scoped>\n",
              "    .dataframe tbody tr th:only-of-type {\n",
              "        vertical-align: middle;\n",
              "    }\n",
              "\n",
              "    .dataframe tbody tr th {\n",
              "        vertical-align: top;\n",
              "    }\n",
              "\n",
              "    .dataframe thead th {\n",
              "        text-align: right;\n",
              "    }\n",
              "</style>\n",
              "<table border=\"1\" class=\"dataframe\">\n",
              "  <thead>\n",
              "    <tr style=\"text-align: right;\">\n",
              "      <th></th>\n",
              "      <th>Open</th>\n",
              "      <th>High</th>\n",
              "      <th>Low</th>\n",
              "      <th>Close</th>\n",
              "      <th>Adj Close</th>\n",
              "      <th>Volume</th>\n",
              "    </tr>\n",
              "    <tr>\n",
              "      <th>Date</th>\n",
              "      <th></th>\n",
              "      <th></th>\n",
              "      <th></th>\n",
              "      <th></th>\n",
              "      <th></th>\n",
              "      <th></th>\n",
              "    </tr>\n",
              "  </thead>\n",
              "  <tbody>\n",
              "    <tr>\n",
              "      <th>2012-01-03</th>\n",
              "      <td>14.621429</td>\n",
              "      <td>14.732143</td>\n",
              "      <td>14.607143</td>\n",
              "      <td>14.686786</td>\n",
              "      <td>12.402626</td>\n",
              "      <td>302220800</td>\n",
              "    </tr>\n",
              "    <tr>\n",
              "      <th>2012-01-04</th>\n",
              "      <td>14.642857</td>\n",
              "      <td>14.810000</td>\n",
              "      <td>14.617143</td>\n",
              "      <td>14.765714</td>\n",
              "      <td>12.469278</td>\n",
              "      <td>260022000</td>\n",
              "    </tr>\n",
              "    <tr>\n",
              "      <th>2012-01-05</th>\n",
              "      <td>14.819643</td>\n",
              "      <td>14.948214</td>\n",
              "      <td>14.738214</td>\n",
              "      <td>14.929643</td>\n",
              "      <td>12.607714</td>\n",
              "      <td>271269600</td>\n",
              "    </tr>\n",
              "    <tr>\n",
              "      <th>2012-01-06</th>\n",
              "      <td>14.991786</td>\n",
              "      <td>15.098214</td>\n",
              "      <td>14.972143</td>\n",
              "      <td>15.085714</td>\n",
              "      <td>12.739511</td>\n",
              "      <td>318292800</td>\n",
              "    </tr>\n",
              "    <tr>\n",
              "      <th>2012-01-09</th>\n",
              "      <td>15.196429</td>\n",
              "      <td>15.276786</td>\n",
              "      <td>15.048214</td>\n",
              "      <td>15.061786</td>\n",
              "      <td>12.719306</td>\n",
              "      <td>394024400</td>\n",
              "    </tr>\n",
              "  </tbody>\n",
              "</table>\n",
              "</div>\n",
              "    <div class=\"colab-df-buttons\">\n",
              "\n",
              "  <div class=\"colab-df-container\">\n",
              "    <button class=\"colab-df-convert\" onclick=\"convertToInteractive('df-02cf739b-ef1e-42da-95d4-f0fa04037544')\"\n",
              "            title=\"Convert this dataframe to an interactive table.\"\n",
              "            style=\"display:none;\">\n",
              "\n",
              "  <svg xmlns=\"http://www.w3.org/2000/svg\" height=\"24px\" viewBox=\"0 -960 960 960\">\n",
              "    <path d=\"M120-120v-720h720v720H120Zm60-500h600v-160H180v160Zm220 220h160v-160H400v160Zm0 220h160v-160H400v160ZM180-400h160v-160H180v160Zm440 0h160v-160H620v160ZM180-180h160v-160H180v160Zm440 0h160v-160H620v160Z\"/>\n",
              "  </svg>\n",
              "    </button>\n",
              "\n",
              "  <style>\n",
              "    .colab-df-container {\n",
              "      display:flex;\n",
              "      gap: 12px;\n",
              "    }\n",
              "\n",
              "    .colab-df-convert {\n",
              "      background-color: #E8F0FE;\n",
              "      border: none;\n",
              "      border-radius: 50%;\n",
              "      cursor: pointer;\n",
              "      display: none;\n",
              "      fill: #1967D2;\n",
              "      height: 32px;\n",
              "      padding: 0 0 0 0;\n",
              "      width: 32px;\n",
              "    }\n",
              "\n",
              "    .colab-df-convert:hover {\n",
              "      background-color: #E2EBFA;\n",
              "      box-shadow: 0px 1px 2px rgba(60, 64, 67, 0.3), 0px 1px 3px 1px rgba(60, 64, 67, 0.15);\n",
              "      fill: #174EA6;\n",
              "    }\n",
              "\n",
              "    .colab-df-buttons div {\n",
              "      margin-bottom: 4px;\n",
              "    }\n",
              "\n",
              "    [theme=dark] .colab-df-convert {\n",
              "      background-color: #3B4455;\n",
              "      fill: #D2E3FC;\n",
              "    }\n",
              "\n",
              "    [theme=dark] .colab-df-convert:hover {\n",
              "      background-color: #434B5C;\n",
              "      box-shadow: 0px 1px 3px 1px rgba(0, 0, 0, 0.15);\n",
              "      filter: drop-shadow(0px 1px 2px rgba(0, 0, 0, 0.3));\n",
              "      fill: #FFFFFF;\n",
              "    }\n",
              "  </style>\n",
              "\n",
              "    <script>\n",
              "      const buttonEl =\n",
              "        document.querySelector('#df-02cf739b-ef1e-42da-95d4-f0fa04037544 button.colab-df-convert');\n",
              "      buttonEl.style.display =\n",
              "        google.colab.kernel.accessAllowed ? 'block' : 'none';\n",
              "\n",
              "      async function convertToInteractive(key) {\n",
              "        const element = document.querySelector('#df-02cf739b-ef1e-42da-95d4-f0fa04037544');\n",
              "        const dataTable =\n",
              "          await google.colab.kernel.invokeFunction('convertToInteractive',\n",
              "                                                    [key], {});\n",
              "        if (!dataTable) return;\n",
              "\n",
              "        const docLinkHtml = 'Like what you see? Visit the ' +\n",
              "          '<a target=\"_blank\" href=https://colab.research.google.com/notebooks/data_table.ipynb>data table notebook</a>'\n",
              "          + ' to learn more about interactive tables.';\n",
              "        element.innerHTML = '';\n",
              "        dataTable['output_type'] = 'display_data';\n",
              "        await google.colab.output.renderOutput(dataTable, element);\n",
              "        const docLink = document.createElement('div');\n",
              "        docLink.innerHTML = docLinkHtml;\n",
              "        element.appendChild(docLink);\n",
              "      }\n",
              "    </script>\n",
              "  </div>\n",
              "\n",
              "\n",
              "<div id=\"df-2b9fa080-fde5-4307-8c0a-27ce882b7903\">\n",
              "  <button class=\"colab-df-quickchart\" onclick=\"quickchart('df-2b9fa080-fde5-4307-8c0a-27ce882b7903')\"\n",
              "            title=\"Suggest charts\"\n",
              "            style=\"display:none;\">\n",
              "\n",
              "<svg xmlns=\"http://www.w3.org/2000/svg\" height=\"24px\"viewBox=\"0 0 24 24\"\n",
              "     width=\"24px\">\n",
              "    <g>\n",
              "        <path d=\"M19 3H5c-1.1 0-2 .9-2 2v14c0 1.1.9 2 2 2h14c1.1 0 2-.9 2-2V5c0-1.1-.9-2-2-2zM9 17H7v-7h2v7zm4 0h-2V7h2v10zm4 0h-2v-4h2v4z\"/>\n",
              "    </g>\n",
              "</svg>\n",
              "  </button>\n",
              "\n",
              "<style>\n",
              "  .colab-df-quickchart {\n",
              "      --bg-color: #E8F0FE;\n",
              "      --fill-color: #1967D2;\n",
              "      --hover-bg-color: #E2EBFA;\n",
              "      --hover-fill-color: #174EA6;\n",
              "      --disabled-fill-color: #AAA;\n",
              "      --disabled-bg-color: #DDD;\n",
              "  }\n",
              "\n",
              "  [theme=dark] .colab-df-quickchart {\n",
              "      --bg-color: #3B4455;\n",
              "      --fill-color: #D2E3FC;\n",
              "      --hover-bg-color: #434B5C;\n",
              "      --hover-fill-color: #FFFFFF;\n",
              "      --disabled-bg-color: #3B4455;\n",
              "      --disabled-fill-color: #666;\n",
              "  }\n",
              "\n",
              "  .colab-df-quickchart {\n",
              "    background-color: var(--bg-color);\n",
              "    border: none;\n",
              "    border-radius: 50%;\n",
              "    cursor: pointer;\n",
              "    display: none;\n",
              "    fill: var(--fill-color);\n",
              "    height: 32px;\n",
              "    padding: 0;\n",
              "    width: 32px;\n",
              "  }\n",
              "\n",
              "  .colab-df-quickchart:hover {\n",
              "    background-color: var(--hover-bg-color);\n",
              "    box-shadow: 0 1px 2px rgba(60, 64, 67, 0.3), 0 1px 3px 1px rgba(60, 64, 67, 0.15);\n",
              "    fill: var(--button-hover-fill-color);\n",
              "  }\n",
              "\n",
              "  .colab-df-quickchart-complete:disabled,\n",
              "  .colab-df-quickchart-complete:disabled:hover {\n",
              "    background-color: var(--disabled-bg-color);\n",
              "    fill: var(--disabled-fill-color);\n",
              "    box-shadow: none;\n",
              "  }\n",
              "\n",
              "  .colab-df-spinner {\n",
              "    border: 2px solid var(--fill-color);\n",
              "    border-color: transparent;\n",
              "    border-bottom-color: var(--fill-color);\n",
              "    animation:\n",
              "      spin 1s steps(1) infinite;\n",
              "  }\n",
              "\n",
              "  @keyframes spin {\n",
              "    0% {\n",
              "      border-color: transparent;\n",
              "      border-bottom-color: var(--fill-color);\n",
              "      border-left-color: var(--fill-color);\n",
              "    }\n",
              "    20% {\n",
              "      border-color: transparent;\n",
              "      border-left-color: var(--fill-color);\n",
              "      border-top-color: var(--fill-color);\n",
              "    }\n",
              "    30% {\n",
              "      border-color: transparent;\n",
              "      border-left-color: var(--fill-color);\n",
              "      border-top-color: var(--fill-color);\n",
              "      border-right-color: var(--fill-color);\n",
              "    }\n",
              "    40% {\n",
              "      border-color: transparent;\n",
              "      border-right-color: var(--fill-color);\n",
              "      border-top-color: var(--fill-color);\n",
              "    }\n",
              "    60% {\n",
              "      border-color: transparent;\n",
              "      border-right-color: var(--fill-color);\n",
              "    }\n",
              "    80% {\n",
              "      border-color: transparent;\n",
              "      border-right-color: var(--fill-color);\n",
              "      border-bottom-color: var(--fill-color);\n",
              "    }\n",
              "    90% {\n",
              "      border-color: transparent;\n",
              "      border-bottom-color: var(--fill-color);\n",
              "    }\n",
              "  }\n",
              "</style>\n",
              "\n",
              "  <script>\n",
              "    async function quickchart(key) {\n",
              "      const quickchartButtonEl =\n",
              "        document.querySelector('#' + key + ' button');\n",
              "      quickchartButtonEl.disabled = true;  // To prevent multiple clicks.\n",
              "      quickchartButtonEl.classList.add('colab-df-spinner');\n",
              "      try {\n",
              "        const charts = await google.colab.kernel.invokeFunction(\n",
              "            'suggestCharts', [key], {});\n",
              "      } catch (error) {\n",
              "        console.error('Error during call to suggestCharts:', error);\n",
              "      }\n",
              "      quickchartButtonEl.classList.remove('colab-df-spinner');\n",
              "      quickchartButtonEl.classList.add('colab-df-quickchart-complete');\n",
              "    }\n",
              "    (() => {\n",
              "      let quickchartButtonEl =\n",
              "        document.querySelector('#df-2b9fa080-fde5-4307-8c0a-27ce882b7903 button');\n",
              "      quickchartButtonEl.style.display =\n",
              "        google.colab.kernel.accessAllowed ? 'block' : 'none';\n",
              "    })();\n",
              "  </script>\n",
              "</div>\n",
              "\n",
              "    </div>\n",
              "  </div>\n"
            ],
            "application/vnd.google.colaboratory.intrinsic+json": {
              "type": "dataframe",
              "variable_name": "data",
              "summary": "{\n  \"name\": \"data\",\n  \"rows\": 2955,\n  \"fields\": [\n    {\n      \"column\": \"Date\",\n      \"properties\": {\n        \"dtype\": \"date\",\n        \"min\": \"2012-01-03 00:00:00\",\n        \"max\": \"2023-09-29 00:00:00\",\n        \"num_unique_values\": 2955,\n        \"samples\": [\n          \"2018-12-11 00:00:00\",\n          \"2023-01-03 00:00:00\",\n          \"2012-09-11 00:00:00\"\n        ],\n        \"semantic_type\": \"\",\n        \"description\": \"\"\n      }\n    },\n    {\n      \"column\": \"Open\",\n      \"properties\": {\n        \"dtype\": \"number\",\n        \"std\": 53.73083283700671,\n        \"min\": 13.856071472167969,\n        \"max\": 196.24000549316406,\n        \"num_unique_values\": 2807,\n        \"samples\": [\n          173.0399932861328,\n          153.6999969482422,\n          54.525001525878906\n        ],\n        \"semantic_type\": \"\",\n        \"description\": \"\"\n      }\n    },\n    {\n      \"column\": \"High\",\n      \"properties\": {\n        \"dtype\": \"number\",\n        \"std\": 54.36929789625839,\n        \"min\": 14.271429061889648,\n        \"max\": 198.22999572753906,\n        \"num_unique_values\": 2797,\n        \"samples\": [\n          127.48500061035156,\n          33.11249923706055,\n          29.020000457763672\n        ],\n        \"semantic_type\": \"\",\n        \"description\": \"\"\n      }\n    },\n    {\n      \"column\": \"Low\",\n      \"properties\": {\n        \"dtype\": \"number\",\n        \"std\": 53.13414033186183,\n        \"min\": 13.753570556640625,\n        \"max\": 195.27999877929688,\n        \"num_unique_values\": 2809,\n        \"samples\": [\n          46.00749969482422,\n          143.50999450683594,\n          156.36000061035156\n        ],\n        \"semantic_type\": \"\",\n        \"description\": \"\"\n      }\n    },\n    {\n      \"column\": \"Close\",\n      \"properties\": {\n        \"dtype\": \"number\",\n        \"std\": 53.77500701760447,\n        \"min\": 13.947500228881836,\n        \"max\": 196.4499969482422,\n        \"num_unique_values\": 2810,\n        \"samples\": [\n          46.3650016784668,\n          142.0,\n          147.8699951171875\n        ],\n        \"semantic_type\": \"\",\n        \"description\": \"\"\n      }\n    },\n    {\n      \"column\": \"Adj Close\",\n      \"properties\": {\n        \"dtype\": \"number\",\n        \"std\": 54.03683179039458,\n        \"min\": 11.952169418334961,\n        \"max\": 195.18629455566406,\n        \"num_unique_values\": 2916,\n        \"samples\": [\n          78.9080581665039,\n          23.312030792236328,\n          134.50282287597656\n        ],\n        \"semantic_type\": \"\",\n        \"description\": \"\"\n      }\n    },\n    {\n      \"column\": \"Volume\",\n      \"properties\": {\n        \"dtype\": \"number\",\n        \"std\": 169878287,\n        \"min\": 31458200,\n        \"max\": 1506120000,\n        \"num_unique_values\": 2947,\n        \"samples\": [\n          162344000,\n          97016800,\n          133332000\n        ],\n        \"semantic_type\": \"\",\n        \"description\": \"\"\n      }\n    }\n  ]\n}"
            }
          },
          "metadata": {},
          "execution_count": 2
        }
      ]
    },
    {
      "cell_type": "markdown",
      "source": [
        "**Visualize the Closing Price History**"
      ],
      "metadata": {
        "id": "FTTSmUHESN0d"
      }
    },
    {
      "cell_type": "code",
      "source": [
        "plt.figure(figsize=(14,5))\n",
        "plt.plot(data['Close'], label='Close Price history')\n",
        "plt.title('Apple Closing Price History')\n",
        "plt.xlabel('Date')\n",
        "plt.ylabel('Closing Price USD ($)')\n",
        "plt.legend()\n",
        "plt.show()\n"
      ],
      "metadata": {
        "colab": {
          "base_uri": "https://localhost:8080/",
          "height": 487
        },
        "id": "3WBH0LVYSSiA",
        "outputId": "110afdac-682d-4fc5-84f8-64befbf0baff"
      },
      "execution_count": null,
      "outputs": [
        {
          "output_type": "display_data",
          "data": {
            "text/plain": [
              "<Figure size 1400x500 with 1 Axes>"
            ],
            "image/png": "[encoded data removed]"
          },
          "metadata": {}
        }
      ]
    },
    {
      "cell_type": "markdown",
      "source": [
        "**Filter the Closing Prices**"
      ],
      "metadata": {
        "id": "dT4xm5YJSWiK"
      }
    },
    {
      "cell_type": "code",
      "source": [
        "close_prices = data['Close']\n"
      ],
      "metadata": {
        "id": "MshRkwwqSX6b"
      },
      "execution_count": null,
      "outputs": []
    },
    {
      "cell_type": "markdown",
      "source": [
        "**Convert to Numpy Array**"
      ],
      "metadata": {
        "id": "pXdUGK5ZSibM"
      }
    },
    {
      "cell_type": "code",
      "source": [
        "dataset = close_prices.values"
      ],
      "metadata": {
        "id": "CFbJS7GKSaAs"
      },
      "execution_count": null,
      "outputs": []
    },
    {
      "cell_type": "markdown",
      "source": [
        "**Normalize the Data**\n",
        "\n",
        "LSTMs are sensitive to the scale of the data, so we apply Min-Max scaling."
      ],
      "metadata": {
        "id": "ekPFd4C4SneH"
      }
    },
    {
      "cell_type": "code",
      "source": [
        "scaler = MinMaxScaler(feature_range=(0, 1))\n",
        "scaled_data = scaler.fit_transform(dataset.reshape(-1, 1))\n"
      ],
      "metadata": {
        "id": "sa5etibUSrBd"
      },
      "execution_count": null,
      "outputs": []
    },
    {
      "cell_type": "markdown",
      "source": [
        "**Split into Training and Testing Sets**"
      ],
      "metadata": {
        "id": "8JSLZDagSyW1"
      }
    },
    {
      "cell_type": "code",
      "source": [
        "training_data_len = int(np.ceil(len(scaled_data) * 0.8))\n",
        "\n",
        "train_data = scaled_data[0:training_data_len, :]\n",
        "test_data = scaled_data[training_data_len - 60:, :]  # 60 is the window size\n"
      ],
      "metadata": {
        "id": "4wSpoG7QSzss"
      },
      "execution_count": null,
      "outputs": []
    },
    {
      "cell_type": "markdown",
      "source": [
        "**Create Sequences**"
      ],
      "metadata": {
        "id": "7-lyYW6ZS4c6"
      }
    },
    {
      "cell_type": "code",
      "source": [
        "def create_dataset(dataset, window_size=60):\n",
        "    X, y = [], []\n",
        "    for i in range(window_size, len(dataset)):\n",
        "        X.append(dataset[i - window_size:i, 0])\n",
        "        y.append(dataset[i, 0])\n",
        "    return np.array(X), np.array(y)\n",
        "\n",
        "X_train, y_train = create_dataset(train_data)\n",
        "X_test, y_test = create_dataset(test_data)\n"
      ],
      "metadata": {
        "id": "XZFuYNU9S5no"
      },
      "execution_count": null,
      "outputs": []
    },
    {
      "cell_type": "markdown",
      "source": [
        "**Reshape the Data**"
      ],
      "metadata": {
        "id": "oVKJ1YWZS-sd"
      }
    },
    {
      "cell_type": "code",
      "source": [
        "X_train = X_train.reshape((X_train.shape[0], X_train.shape[1], 1))\n",
        "X_test = X_test.reshape((X_test.shape[0], X_test.shape[1], 1))\n"
      ],
      "metadata": {
        "id": "lm5MDtKTTBPs"
      },
      "execution_count": null,
      "outputs": []
    },
    {
      "cell_type": "markdown",
      "source": [
        "**Build the LSTM Model**"
      ],
      "metadata": {
        "id": "JwuU784ATDir"
      }
    },
    {
      "cell_type": "code",
      "source": [
        "model = Sequential()\n",
        "\n",
        "model.add(LSTM(units=50, return_sequences=True, input_shape=(X_train.shape[1], 1)))\n",
        "model.add(LSTM(units=50, return_sequences=False))\n",
        "model.add(Dense(units=25))\n",
        "model.add(Dense(units=1))\n"
      ],
      "metadata": {
        "colab": {
          "base_uri": "https://localhost:8080/"
        },
        "id": "IOGXdLP0TFBR",
        "outputId": "935d7d6c-0902-419f-da9e-156bcb64a48f"
      },
      "execution_count": null,
      "outputs": [
        {
          "output_type": "stream",
          "name": "stderr",
          "text": [
            "/usr/local/lib/python3.10/dist-packages/keras/src/layers/rnn/rnn.py:204: UserWarning: Do not pass an `input_shape`/`input_dim` argument to a layer. When using Sequential models, prefer using an `Input(shape)` object as the first layer in the model instead.\n",
            "  super().__init__(**kwargs)\n"
          ]
        }
      ]
    },
    {
      "cell_type": "markdown",
      "source": [
        "**Compile the Model**"
      ],
      "metadata": {
        "id": "NIIJTS-4TIps"
      }
    },
    {
      "cell_type": "code",
      "source": [
        "model.compile(optimizer='adam', loss='mean_squared_error')\n"
      ],
      "metadata": {
        "id": "PhA7yz0TTJyk"
      },
      "execution_count": null,
      "outputs": []
    },
    {
      "cell_type": "markdown",
      "source": [
        "**Train the Model**"
      ],
      "metadata": {
        "id": "t0212jYVTNon"
      }
    },
    {
      "cell_type": "code",
      "source": [
        "history = model.fit(X_train, y_train, batch_size=64, epochs=10, validation_data=(X_test, y_test))\n"
      ],
      "metadata": {
        "colab": {
          "base_uri": "https://localhost:8080/"
        },
        "id": "w35_u0efTOxZ",
        "outputId": "551040e3-83c1-48b3-9b0a-206ad7237d8f"
      },
      "execution_count": null,
      "outputs": [
        {
          "output_type": "stream",
          "name": "stdout",
          "text": [
            "Epoch 1/10\n",
            "\u001b[1m36/36\u001b[0m \u001b[32m━━━━━━━━━━━━━━━━━━━━\u001b[0m\u001b[37m\u001b[0m \u001b[1m7s\u001b[0m 109ms/step - loss: 0.0106 - val_loss: 0.0012\n",
            "Epoch 2/10\n",
            "\u001b[1m36/36\u001b[0m \u001b[32m━━━━━━━━━━━━━━━━━━━━\u001b[0m\u001b[37m\u001b[0m \u001b[1m2s\u001b[0m 62ms/step - loss: 3.0505e-04 - val_loss: 0.0012\n",
            "Epoch 3/10\n",
            "\u001b[1m36/36\u001b[0m \u001b[32m━━━━━━━━━━━━━━━━━━━━\u001b[0m\u001b[37m\u001b[0m \u001b[1m3s\u001b[0m 80ms/step - loss: 1.9152e-04 - val_loss: 0.0012\n",
            "Epoch 4/10\n",
            "\u001b[1m36/36\u001b[0m \u001b[32m━━━━━━━━━━━━━━━━━━━━\u001b[0m\u001b[37m\u001b[0m \u001b[1m5s\u001b[0m 69ms/step - loss: 1.8194e-04 - val_loss: 0.0012\n",
            "Epoch 5/10\n",
            "\u001b[1m36/36\u001b[0m \u001b[32m━━━━━━━━━━━━━━━━━━━━\u001b[0m\u001b[37m\u001b[0m \u001b[1m4s\u001b[0m 102ms/step - loss: 1.5789e-04 - val_loss: 0.0011\n",
            "Epoch 6/10\n",
            "\u001b[1m36/36\u001b[0m \u001b[32m━━━━━━━━━━━━━━━━━━━━\u001b[0m\u001b[37m\u001b[0m \u001b[1m4s\u001b[0m 63ms/step - loss: 1.5702e-04 - val_loss: 0.0016\n",
            "Epoch 7/10\n",
            "\u001b[1m36/36\u001b[0m \u001b[32m━━━━━━━━━━━━━━━━━━━━\u001b[0m\u001b[37m\u001b[0m \u001b[1m2s\u001b[0m 63ms/step - loss: 1.7331e-04 - val_loss: 0.0014\n",
            "Epoch 8/10\n",
            "\u001b[1m36/36\u001b[0m \u001b[32m━━━━━━━━━━━━━━━━━━━━\u001b[0m\u001b[37m\u001b[0m \u001b[1m3s\u001b[0m 73ms/step - loss: 1.5253e-04 - val_loss: 9.8088e-04\n",
            "Epoch 9/10\n",
            "\u001b[1m36/36\u001b[0m \u001b[32m━━━━━━━━━━━━━━━━━━━━\u001b[0m\u001b[37m\u001b[0m \u001b[1m7s\u001b[0m 114ms/step - loss: 1.7541e-04 - val_loss: 0.0012\n",
            "Epoch 10/10\n",
            "\u001b[1m36/36\u001b[0m \u001b[32m━━━━━━━━━━━━━━━━━━━━\u001b[0m\u001b[37m\u001b[0m \u001b[1m3s\u001b[0m 62ms/step - loss: 1.6129e-04 - val_loss: 0.0012\n"
          ]
        }
      ]
    },
    {
      "cell_type": "markdown",
      "source": [
        "**Evaluate the Model**"
      ],
      "metadata": {
        "id": "ZZCPHHIWTSxA"
      }
    },
    {
      "cell_type": "markdown",
      "source": [
        "Predict the Prices"
      ],
      "metadata": {
        "id": "--TCF22TTbGh"
      }
    },
    {
      "cell_type": "code",
      "source": [
        "predictions = model.predict(X_test)\n",
        "predictions = scaler.inverse_transform(predictions)\n"
      ],
      "metadata": {
        "colab": {
          "base_uri": "https://localhost:8080/"
        },
        "id": "RssuWwMaTXqs",
        "outputId": "5d4bae37-1740-46bb-f872-888cd8a90dfb"
      },
      "execution_count": null,
      "outputs": [
        {
          "output_type": "stream",
          "name": "stdout",
          "text": [
            "\u001b[1m19/19\u001b[0m \u001b[32m━━━━━━━━━━━━━━━━━━━━\u001b[0m\u001b[37m\u001b[0m \u001b[1m1s\u001b[0m 31ms/step\n"
          ]
        }
      ]
    },
    {
      "cell_type": "markdown",
      "source": [
        "Calculate RMSE"
      ],
      "metadata": {
        "id": "i-_ojowBTdfz"
      }
    },
    {
      "cell_type": "code",
      "source": [
        "rmse = np.sqrt(np.mean(((predictions - scaler.inverse_transform(y_test.reshape(-1, 1))) ** 2)))\n",
        "print(f'Root Mean Squared Error: {rmse}')\n"
      ],
      "metadata": {
        "colab": {
          "base_uri": "https://localhost:8080/"
        },
        "id": "I0zrG0ogTb2i",
        "outputId": "cf5dc68f-a94c-4932-fc72-b2c2cd137148"
      },
      "execution_count": null,
      "outputs": [
        {
          "output_type": "stream",
          "name": "stdout",
          "text": [
            "Root Mean Squared Error: 6.267663066215033\n"
          ]
        }
      ]
    },
    {
      "cell_type": "markdown",
      "source": [
        "Visualize the Results"
      ],
      "metadata": {
        "id": "hADbdEksThdZ"
      }
    },
    {
      "cell_type": "code",
      "source": [
        "train = data[:training_data_len]\n",
        "valid = data[training_data_len:]\n",
        "valid['Predictions'] = predictions\n",
        "\n",
        "plt.figure(figsize=(14,5))\n",
        "plt.title('Model')\n",
        "plt.xlabel('Date')\n",
        "plt.ylabel('Close Price USD ($)')\n",
        "plt.plot(train['Close'], label='Training Data')\n",
        "plt.plot(valid[['Close']], label='Actual Price')\n",
        "plt.plot(valid[['Predictions']], label='Predicted Price')\n",
        "plt.legend()\n",
        "plt.show()\n"
      ],
      "metadata": {
        "colab": {
          "base_uri": "https://localhost:8080/",
          "height": 591
        },
        "id": "BwtUowTaTiHQ",
        "outputId": "d2b92298-5fc8-4b54-89e9-a67c568434e0"
      },
      "execution_count": null,
      "outputs": [
        {
          "output_type": "stream",
          "name": "stderr",
          "text": [
            "<ipython-input-15-69b4d55c8635>:3: SettingWithCopyWarning: \n",
            "A value is trying to be set on a copy of a slice from a DataFrame.\n",
            "Try using .loc[row_indexer,col_indexer] = value instead\n",
            "\n",
            "See the caveats in the documentation: https://pandas.pydata.org/pandas-docs/stable/user_guide/indexing.html#returning-a-view-versus-a-copy\n",
            "  valid['Predictions'] = predictions\n"
          ]
        },
        {
          "output_type": "display_data",
          "data": {
            "text/plain": [
              "<Figure size 1400x500 with 1 Axes>"
            ],
            "image/png": "[encoded data removed]"
          },
          "metadata": {}
        }
      ]
    },
    {
      "cell_type": "markdown",
      "source": [
        "**Conclusion**"
      ],
      "metadata": {
        "id": "jFGi2mR4To9E"
      }
    },
    {
      "cell_type": "markdown",
      "source": [
        "We've built an LSTM model to predict Apple's stock prices using historical data. While the model captures general trends, stock price prediction is inherently uncertain due to market volatility and unforeseen events. Always exercise caution and do thorough research before making investment decisions."
      ],
      "metadata": {
        "id": "rqjo_B2BTnAK"
      }
    }
  ]
}